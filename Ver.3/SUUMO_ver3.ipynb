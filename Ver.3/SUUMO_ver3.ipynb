{
 "cells": [
  {
   "cell_type": "code",
   "execution_count": 9,
   "metadata": {},
   "outputs": [
    {
     "name": "stdout",
     "output_type": "stream",
     "text": [
      "0\n",
      "https://suumo.jp/jj/chintai/ichiran/FR301FC001/?ar=030&bs=040&ra=013&cb=0.0&ct=20.0&et=5&md=05&md=06&md=07&md=08&md=09&md=10&md=11&md=12&md=13&md=14&cn=9999999&mb=0&mt=9999999&shkr1=03&shkr2=03&shkr3=03&shkr4=03&fw2=&rn=0005&ek=012505180&ek=012504030&ek=012506530&ek=012510270&ek=012540650&ek=012520110&ek=012531160&ek=012523500&ek=012584570&ek=012517460&ek=012505480&ek=012508940&rn=0125&rn=0160&rn=0010&rn=0015&rn=0020&rn=0025&rn=0030&rn=0040&page=1\n",
      "30\n",
      "https://suumo.jp/jj/chintai/ichiran/FR301FC001/?ar=030&bs=040&ra=013&cb=0.0&ct=20.0&et=5&md=05&md=06&md=07&md=08&md=09&md=10&md=11&md=12&md=13&md=14&cn=9999999&mb=0&mt=9999999&shkr1=03&shkr2=03&shkr3=03&shkr4=03&fw2=&rn=0005&ek=012505180&ek=012504030&ek=012506530&ek=012510270&ek=012540650&ek=012520110&ek=012531160&ek=012523500&ek=012584570&ek=012517460&ek=012505480&ek=012508940&rn=0125&rn=0160&rn=0010&rn=0015&rn=0020&rn=0025&rn=0030&rn=0040&page=2\n",
      "60\n",
      "https://suumo.jp/jj/chintai/ichiran/FR301FC001/?ar=030&bs=040&ra=013&cb=0.0&ct=20.0&et=5&md=05&md=06&md=07&md=08&md=09&md=10&md=11&md=12&md=13&md=14&cn=9999999&mb=0&mt=9999999&shkr1=03&shkr2=03&shkr3=03&shkr4=03&fw2=&rn=0005&ek=012505180&ek=012504030&ek=012506530&ek=012510270&ek=012540650&ek=012520110&ek=012531160&ek=012523500&ek=012584570&ek=012517460&ek=012505480&ek=012508940&rn=0125&rn=0160&rn=0010&rn=0015&rn=0020&rn=0025&rn=0030&rn=0040&page=3\n",
      "90\n",
      "https://suumo.jp/jj/chintai/ichiran/FR301FC001/?ar=030&bs=040&ra=013&cb=0.0&ct=20.0&et=5&md=05&md=06&md=07&md=08&md=09&md=10&md=11&md=12&md=13&md=14&cn=9999999&mb=0&mt=9999999&shkr1=03&shkr2=03&shkr3=03&shkr4=03&fw2=&rn=0005&ek=012505180&ek=012504030&ek=012506530&ek=012510270&ek=012540650&ek=012520110&ek=012531160&ek=012523500&ek=012584570&ek=012517460&ek=012505480&ek=012508940&rn=0125&rn=0160&rn=0010&rn=0015&rn=0020&rn=0025&rn=0030&rn=0040&page=4\n",
      "120\n",
      "https://suumo.jp/jj/chintai/ichiran/FR301FC001/?ar=030&bs=040&ra=013&cb=0.0&ct=20.0&et=5&md=05&md=06&md=07&md=08&md=09&md=10&md=11&md=12&md=13&md=14&cn=9999999&mb=0&mt=9999999&shkr1=03&shkr2=03&shkr3=03&shkr4=03&fw2=&rn=0005&ek=012505180&ek=012504030&ek=012506530&ek=012510270&ek=012540650&ek=012520110&ek=012531160&ek=012523500&ek=012584570&ek=012517460&ek=012505480&ek=012508940&rn=0125&rn=0160&rn=0010&rn=0015&rn=0020&rn=0025&rn=0030&rn=0040&page=5\n",
      "150\n",
      "https://suumo.jp/jj/chintai/ichiran/FR301FC001/?ar=030&bs=040&ra=013&cb=0.0&ct=20.0&et=5&md=05&md=06&md=07&md=08&md=09&md=10&md=11&md=12&md=13&md=14&cn=9999999&mb=0&mt=9999999&shkr1=03&shkr2=03&shkr3=03&shkr4=03&fw2=&rn=0005&ek=012505180&ek=012504030&ek=012506530&ek=012510270&ek=012540650&ek=012520110&ek=012531160&ek=012523500&ek=012584570&ek=012517460&ek=012505480&ek=012508940&rn=0125&rn=0160&rn=0010&rn=0015&rn=0020&rn=0025&rn=0030&rn=0040&page=6\n",
      "180\n",
      "https://suumo.jp/jj/chintai/ichiran/FR301FC001/?ar=030&bs=040&ra=013&cb=0.0&ct=20.0&et=5&md=05&md=06&md=07&md=08&md=09&md=10&md=11&md=12&md=13&md=14&cn=9999999&mb=0&mt=9999999&shkr1=03&shkr2=03&shkr3=03&shkr4=03&fw2=&rn=0005&ek=012505180&ek=012504030&ek=012506530&ek=012510270&ek=012540650&ek=012520110&ek=012531160&ek=012523500&ek=012584570&ek=012517460&ek=012505480&ek=012508940&rn=0125&rn=0160&rn=0010&rn=0015&rn=0020&rn=0025&rn=0030&rn=0040&page=7\n",
      "210\n",
      "https://suumo.jp/jj/chintai/ichiran/FR301FC001/?ar=030&bs=040&ra=013&cb=0.0&ct=20.0&et=5&md=05&md=06&md=07&md=08&md=09&md=10&md=11&md=12&md=13&md=14&cn=9999999&mb=0&mt=9999999&shkr1=03&shkr2=03&shkr3=03&shkr4=03&fw2=&rn=0005&ek=012505180&ek=012504030&ek=012506530&ek=012510270&ek=012540650&ek=012520110&ek=012531160&ek=012523500&ek=012584570&ek=012517460&ek=012505480&ek=012508940&rn=0125&rn=0160&rn=0010&rn=0015&rn=0020&rn=0025&rn=0030&rn=0040&page=8\n",
      "240\n",
      "https://suumo.jp/jj/chintai/ichiran/FR301FC001/?ar=030&bs=040&ra=013&cb=0.0&ct=20.0&et=5&md=05&md=06&md=07&md=08&md=09&md=10&md=11&md=12&md=13&md=14&cn=9999999&mb=0&mt=9999999&shkr1=03&shkr2=03&shkr3=03&shkr4=03&fw2=&rn=0005&ek=012505180&ek=012504030&ek=012506530&ek=012510270&ek=012540650&ek=012520110&ek=012531160&ek=012523500&ek=012584570&ek=012517460&ek=012505480&ek=012508940&rn=0125&rn=0160&rn=0010&rn=0015&rn=0020&rn=0025&rn=0030&rn=0040&page=9\n",
      "270\n",
      "https://suumo.jp/jj/chintai/ichiran/FR301FC001/?ar=030&bs=040&ra=013&cb=0.0&ct=20.0&et=5&md=05&md=06&md=07&md=08&md=09&md=10&md=11&md=12&md=13&md=14&cn=9999999&mb=0&mt=9999999&shkr1=03&shkr2=03&shkr3=03&shkr4=03&fw2=&rn=0005&ek=012505180&ek=012504030&ek=012506530&ek=012510270&ek=012540650&ek=012520110&ek=012531160&ek=012523500&ek=012584570&ek=012517460&ek=012505480&ek=012508940&rn=0125&rn=0160&rn=0010&rn=0015&rn=0020&rn=0025&rn=0030&rn=0040&page=10\n",
      "300\n",
      "https://suumo.jp/jj/chintai/ichiran/FR301FC001/?ar=030&bs=040&ra=013&cb=0.0&ct=20.0&et=5&md=05&md=06&md=07&md=08&md=09&md=10&md=11&md=12&md=13&md=14&cn=9999999&mb=0&mt=9999999&shkr1=03&shkr2=03&shkr3=03&shkr4=03&fw2=&rn=0005&ek=012505180&ek=012504030&ek=012506530&ek=012510270&ek=012540650&ek=012520110&ek=012531160&ek=012523500&ek=012584570&ek=012517460&ek=012505480&ek=012508940&rn=0125&rn=0160&rn=0010&rn=0015&rn=0020&rn=0025&rn=0030&rn=0040&page=11\n",
      "330\n",
      "https://suumo.jp/jj/chintai/ichiran/FR301FC001/?ar=030&bs=040&ra=013&cb=0.0&ct=20.0&et=5&md=05&md=06&md=07&md=08&md=09&md=10&md=11&md=12&md=13&md=14&cn=9999999&mb=0&mt=9999999&shkr1=03&shkr2=03&shkr3=03&shkr4=03&fw2=&rn=0005&ek=012505180&ek=012504030&ek=012506530&ek=012510270&ek=012540650&ek=012520110&ek=012531160&ek=012523500&ek=012584570&ek=012517460&ek=012505480&ek=012508940&rn=0125&rn=0160&rn=0010&rn=0015&rn=0020&rn=0025&rn=0030&rn=0040&page=12\n",
      "360\n",
      "https://suumo.jp/jj/chintai/ichiran/FR301FC001/?ar=030&bs=040&ra=013&cb=0.0&ct=20.0&et=5&md=05&md=06&md=07&md=08&md=09&md=10&md=11&md=12&md=13&md=14&cn=9999999&mb=0&mt=9999999&shkr1=03&shkr2=03&shkr3=03&shkr4=03&fw2=&rn=0005&ek=012505180&ek=012504030&ek=012506530&ek=012510270&ek=012540650&ek=012520110&ek=012531160&ek=012523500&ek=012584570&ek=012517460&ek=012505480&ek=012508940&rn=0125&rn=0160&rn=0010&rn=0015&rn=0020&rn=0025&rn=0030&rn=0040&page=13\n",
      "390\n",
      "https://suumo.jp/jj/chintai/ichiran/FR301FC001/?ar=030&bs=040&ra=013&cb=0.0&ct=20.0&et=5&md=05&md=06&md=07&md=08&md=09&md=10&md=11&md=12&md=13&md=14&cn=9999999&mb=0&mt=9999999&shkr1=03&shkr2=03&shkr3=03&shkr4=03&fw2=&rn=0005&ek=012505180&ek=012504030&ek=012506530&ek=012510270&ek=012540650&ek=012520110&ek=012531160&ek=012523500&ek=012584570&ek=012517460&ek=012505480&ek=012508940&rn=0125&rn=0160&rn=0010&rn=0015&rn=0020&rn=0025&rn=0030&rn=0040&page=14\n",
      "420\n",
      "https://suumo.jp/jj/chintai/ichiran/FR301FC001/?ar=030&bs=040&ra=013&cb=0.0&ct=20.0&et=5&md=05&md=06&md=07&md=08&md=09&md=10&md=11&md=12&md=13&md=14&cn=9999999&mb=0&mt=9999999&shkr1=03&shkr2=03&shkr3=03&shkr4=03&fw2=&rn=0005&ek=012505180&ek=012504030&ek=012506530&ek=012510270&ek=012540650&ek=012520110&ek=012531160&ek=012523500&ek=012584570&ek=012517460&ek=012505480&ek=012508940&rn=0125&rn=0160&rn=0010&rn=0015&rn=0020&rn=0025&rn=0030&rn=0040&page=15\n",
      "450\n",
      "https://suumo.jp/jj/chintai/ichiran/FR301FC001/?ar=030&bs=040&ra=013&cb=0.0&ct=20.0&et=5&md=05&md=06&md=07&md=08&md=09&md=10&md=11&md=12&md=13&md=14&cn=9999999&mb=0&mt=9999999&shkr1=03&shkr2=03&shkr3=03&shkr4=03&fw2=&rn=0005&ek=012505180&ek=012504030&ek=012506530&ek=012510270&ek=012540650&ek=012520110&ek=012531160&ek=012523500&ek=012584570&ek=012517460&ek=012505480&ek=012508940&rn=0125&rn=0160&rn=0010&rn=0015&rn=0020&rn=0025&rn=0030&rn=0040&page=16\n",
      "480\n",
      "https://suumo.jp/jj/chintai/ichiran/FR301FC001/?ar=030&bs=040&ra=013&cb=0.0&ct=20.0&et=5&md=05&md=06&md=07&md=08&md=09&md=10&md=11&md=12&md=13&md=14&cn=9999999&mb=0&mt=9999999&shkr1=03&shkr2=03&shkr3=03&shkr4=03&fw2=&rn=0005&ek=012505180&ek=012504030&ek=012506530&ek=012510270&ek=012540650&ek=012520110&ek=012531160&ek=012523500&ek=012584570&ek=012517460&ek=012505480&ek=012508940&rn=0125&rn=0160&rn=0010&rn=0015&rn=0020&rn=0025&rn=0030&rn=0040&page=17\n",
      "510\n",
      "https://suumo.jp/jj/chintai/ichiran/FR301FC001/?ar=030&bs=040&ra=013&cb=0.0&ct=20.0&et=5&md=05&md=06&md=07&md=08&md=09&md=10&md=11&md=12&md=13&md=14&cn=9999999&mb=0&mt=9999999&shkr1=03&shkr2=03&shkr3=03&shkr4=03&fw2=&rn=0005&ek=012505180&ek=012504030&ek=012506530&ek=012510270&ek=012540650&ek=012520110&ek=012531160&ek=012523500&ek=012584570&ek=012517460&ek=012505480&ek=012508940&rn=0125&rn=0160&rn=0010&rn=0015&rn=0020&rn=0025&rn=0030&rn=0040&page=18\n",
      "540\n",
      "https://suumo.jp/jj/chintai/ichiran/FR301FC001/?ar=030&bs=040&ra=013&cb=0.0&ct=20.0&et=5&md=05&md=06&md=07&md=08&md=09&md=10&md=11&md=12&md=13&md=14&cn=9999999&mb=0&mt=9999999&shkr1=03&shkr2=03&shkr3=03&shkr4=03&fw2=&rn=0005&ek=012505180&ek=012504030&ek=012506530&ek=012510270&ek=012540650&ek=012520110&ek=012531160&ek=012523500&ek=012584570&ek=012517460&ek=012505480&ek=012508940&rn=0125&rn=0160&rn=0010&rn=0015&rn=0020&rn=0025&rn=0030&rn=0040&page=19\n"
     ]
    }
   ],
   "source": [
    "from time import sleep\n",
    "from bs4 import BeautifulSoup\n",
    "import requests\n",
    "import pandas as pd\n",
    "\n",
    "#変数urlにSUUMOホームページをのURLを格納する\n",
    "url='https://suumo.jp/jj/chintai/ichiran/FR301FC001/?ar=030&bs=040&ra=013&cb=0.0&ct=20.0&et=5&md=05&md=06&md=07&md=08&md=09&md=10&md=11&md=12&md=13&md=14&cn=9999999&mb=0&mt=9999999&shkr1=03&shkr2=03&shkr3=03&shkr4=03&fw2=&rn=0005&ek=012505180&ek=012504030&ek=012506530&ek=012510270&ek=012540650&ek=012520110&ek=012531160&ek=012523500&ek=012584570&ek=012517460&ek=012505480&ek=012508940&rn=0125&rn=0160&rn=0010&rn=0015&rn=0020&rn=0025&rn=0030&rn=0040&page={}'\n",
    "\n",
    "#リストを作成\n",
    "property_list = []\n",
    "\n",
    "for i in range(1,20):\n",
    "   \n",
    "    print(len(property_list))\n",
    "\n",
    "    target_url = url.format(i)\n",
    "\n",
    "    print(target_url)\n",
    "\n",
    "    r = requests.get(target_url)\n",
    "\n",
    "    sleep(1)\n",
    "\n",
    "    soup = BeautifulSoup(r.text)\n",
    "\n",
    "    #全てのcasseteitem情報を取得\n",
    "    contents = soup.find_all('div', class_='cassetteitem')\n",
    "\n",
    "    #各物件情報をforループで取得する\n",
    "    for content in contents:\n",
    "\n",
    "        #物件情報を取得しておく\n",
    "        detail = content.find('div', class_='cassetteitem-detail')\n",
    "\n",
    "        #物件名と住所を取得\n",
    "        title = detail.find('div', class_='cassetteitem_content-title').text\n",
    "        station_near = detail.find('div', class_='cassetteitem_detail-text').text\n",
    "        address = detail.find('li', class_='cassetteitem_detail-col1').text\n",
    "\n",
    "        #各部屋情報(階数、家賃、敷金＆礼金、広さ)を取得\n",
    "        table = content.find('table', class_='cassetteitem_other')\n",
    "        tr_tags = table.find_all('tr', class_='js-cassette_link')\n",
    "        floor, price, first_fee, capacity = tr_tags[0].find_all('td')[2:6]\n",
    "\n",
    "        fee, management_fee = price.find_all('li')\n",
    "        deposit, gratuity = first_fee.find_all('li')\n",
    "        madori, menseki = capacity.find_all('li')\n",
    "\n",
    "        property = {\n",
    "            '物件名': title,\n",
    "            '最寄り駅': station_near,\n",
    "            '住所': address,\n",
    "            '間取り': madori.text,\n",
    "            '家賃': fee.text,\n",
    "            '階': floor.text\n",
    "        }\n",
    "\n",
    "\n",
    "        #取得した辞書をd_listに格納する\n",
    "        property_list.append(property)"
   ]
  },
  {
   "cell_type": "code",
   "execution_count": 46,
   "metadata": {},
   "outputs": [],
   "source": [
    "df = pd.DataFrame(property_list)"
   ]
  },
  {
   "cell_type": "code",
   "execution_count": 47,
   "metadata": {},
   "outputs": [
    {
     "data": {
      "text/html": [
       "<div>\n",
       "<style scoped>\n",
       "    .dataframe tbody tr th:only-of-type {\n",
       "        vertical-align: middle;\n",
       "    }\n",
       "\n",
       "    .dataframe tbody tr th {\n",
       "        vertical-align: top;\n",
       "    }\n",
       "\n",
       "    .dataframe thead th {\n",
       "        text-align: right;\n",
       "    }\n",
       "</style>\n",
       "<table border=\"1\" class=\"dataframe\">\n",
       "  <thead>\n",
       "    <tr style=\"text-align: right;\">\n",
       "      <th></th>\n",
       "      <th>物件名</th>\n",
       "      <th>最寄り駅</th>\n",
       "      <th>住所</th>\n",
       "      <th>間取り</th>\n",
       "      <th>家賃</th>\n",
       "      <th>階</th>\n",
       "    </tr>\n",
       "  </thead>\n",
       "  <tbody>\n",
       "    <tr>\n",
       "      <th>0</th>\n",
       "      <td>外神田フジハイツ</td>\n",
       "      <td>東京メトロ銀座線/末広町駅 歩3分</td>\n",
       "      <td>東京都千代田区外神田６</td>\n",
       "      <td>2LDK</td>\n",
       "      <td>17.5万円</td>\n",
       "      <td>\\r\\n\\t\\t\\t\\t\\t\\t\\t\\t\\t\\t\\t2階</td>\n",
       "    </tr>\n",
       "    <tr>\n",
       "      <th>1</th>\n",
       "      <td>東京メトロ丸ノ内線 新大塚駅 11階建 築50年</td>\n",
       "      <td>東京メトロ丸ノ内線/新大塚駅 歩1分</td>\n",
       "      <td>東京都文京区大塚４</td>\n",
       "      <td>2DK</td>\n",
       "      <td>13万円</td>\n",
       "      <td>\\r\\n\\t\\t\\t\\t\\t\\t\\t\\t\\t\\t\\t6階</td>\n",
       "    </tr>\n",
       "    <tr>\n",
       "      <th>2</th>\n",
       "      <td>東京メトロ丸ノ内線 淡路町駅 8階建 築20年</td>\n",
       "      <td>東京メトロ丸ノ内線/淡路町駅 歩2分</td>\n",
       "      <td>東京都千代田区神田須田町１</td>\n",
       "      <td>2DK</td>\n",
       "      <td>14万円</td>\n",
       "      <td>\\r\\n\\t\\t\\t\\t\\t\\t\\t\\t\\t\\t\\t6階</td>\n",
       "    </tr>\n",
       "    <tr>\n",
       "      <th>3</th>\n",
       "      <td>東京メトロ銀座線 末広町駅 7階建 築43年</td>\n",
       "      <td>東京メトロ銀座線/末広町駅 歩3分</td>\n",
       "      <td>東京都千代田区外神田６</td>\n",
       "      <td>2LDK</td>\n",
       "      <td>17.5万円</td>\n",
       "      <td>\\r\\n\\t\\t\\t\\t\\t\\t\\t\\t\\t\\t\\t2階</td>\n",
       "    </tr>\n",
       "    <tr>\n",
       "      <th>4</th>\n",
       "      <td>パークウェル御茶ノ水</td>\n",
       "      <td>東京メトロ丸ノ内線/淡路町駅 歩3分</td>\n",
       "      <td>東京都千代田区神田須田町１</td>\n",
       "      <td>2DK</td>\n",
       "      <td>14万円</td>\n",
       "      <td>\\r\\n\\t\\t\\t\\t\\t\\t\\t\\t\\t\\t\\t6階</td>\n",
       "    </tr>\n",
       "  </tbody>\n",
       "</table>\n",
       "</div>"
      ],
      "text/plain": [
       "                        物件名                最寄り駅             住所   間取り      家賃  \\\n",
       "0                  外神田フジハイツ   東京メトロ銀座線/末広町駅 歩3分    東京都千代田区外神田６  2LDK  17.5万円   \n",
       "1  東京メトロ丸ノ内線 新大塚駅 11階建 築50年  東京メトロ丸ノ内線/新大塚駅 歩1分      東京都文京区大塚４   2DK    13万円   \n",
       "2   東京メトロ丸ノ内線 淡路町駅 8階建 築20年  東京メトロ丸ノ内線/淡路町駅 歩2分  東京都千代田区神田須田町１   2DK    14万円   \n",
       "3    東京メトロ銀座線 末広町駅 7階建 築43年   東京メトロ銀座線/末広町駅 歩3分    東京都千代田区外神田６  2LDK  17.5万円   \n",
       "4                パークウェル御茶ノ水  東京メトロ丸ノ内線/淡路町駅 歩3分  東京都千代田区神田須田町１   2DK    14万円   \n",
       "\n",
       "                              階  \n",
       "0  \\r\\n\\t\\t\\t\\t\\t\\t\\t\\t\\t\\t\\t2階  \n",
       "1  \\r\\n\\t\\t\\t\\t\\t\\t\\t\\t\\t\\t\\t6階  \n",
       "2  \\r\\n\\t\\t\\t\\t\\t\\t\\t\\t\\t\\t\\t6階  \n",
       "3  \\r\\n\\t\\t\\t\\t\\t\\t\\t\\t\\t\\t\\t2階  \n",
       "4  \\r\\n\\t\\t\\t\\t\\t\\t\\t\\t\\t\\t\\t6階  "
      ]
     },
     "execution_count": 47,
     "metadata": {},
     "output_type": "execute_result"
    }
   ],
   "source": [
    "df.head()"
   ]
  },
  {
   "cell_type": "markdown",
   "metadata": {},
   "source": [
    "〇変えたいこと\n",
    "\n",
    "・物件名に駅名があるものを、～階建て 築〇〇年だけにしたい\n",
    "\n",
    "・最寄り駅を駅（電車）、駅までの距離（徒歩/分）に変え、数字だけにしたい\n",
    "\n",
    "・住所から東京都を取りたい\n",
    "\n",
    "・家賃を、家賃（万円）にして、数字だけにしたい\n",
    "\n",
    "・階から階を取りたい"
   ]
  },
  {
   "cell_type": "code",
   "execution_count": 48,
   "metadata": {},
   "outputs": [],
   "source": [
    "#階列から、「階」を削除\n",
    "df['階'] = df['階'].apply(lambda x: x.replace('階', ''))\n",
    "#家賃から、「万円」を削除\n",
    "df['家賃'] = df['家賃'].apply(lambda x: x.replace('万円', ''))\n",
    "#最寄駅から、駅までの距離だけを抽出し新規列に追加→最寄り駅の後ろに並び替える\n",
    "df[['最寄り駅', '駅までの距離']] = df['最寄り駅'].str.split(' ', expand=True)"
   ]
  },
  {
   "cell_type": "code",
   "execution_count": 49,
   "metadata": {},
   "outputs": [],
   "source": [
    "#最寄り駅から、「東京メトロ」を削除\n",
    "df['最寄り駅'] = df['最寄り駅'].apply(lambda x: x.replace('東京メトロ', ''))"
   ]
  },
  {
   "cell_type": "code",
   "execution_count": 50,
   "metadata": {},
   "outputs": [],
   "source": [
    "#住所から、「東京都」を削除\n",
    "df['住所'] = df['住所'].apply(lambda x: x.replace('東京都', ''))"
   ]
  },
  {
   "cell_type": "code",
   "execution_count": 51,
   "metadata": {},
   "outputs": [
    {
     "data": {
      "text/html": [
       "<div>\n",
       "<style scoped>\n",
       "    .dataframe tbody tr th:only-of-type {\n",
       "        vertical-align: middle;\n",
       "    }\n",
       "\n",
       "    .dataframe tbody tr th {\n",
       "        vertical-align: top;\n",
       "    }\n",
       "\n",
       "    .dataframe thead th {\n",
       "        text-align: right;\n",
       "    }\n",
       "</style>\n",
       "<table border=\"1\" class=\"dataframe\">\n",
       "  <thead>\n",
       "    <tr style=\"text-align: right;\">\n",
       "      <th></th>\n",
       "      <th>物件名</th>\n",
       "      <th>最寄り駅</th>\n",
       "      <th>住所</th>\n",
       "      <th>間取り</th>\n",
       "      <th>家賃</th>\n",
       "      <th>階</th>\n",
       "      <th>駅までの距離</th>\n",
       "    </tr>\n",
       "  </thead>\n",
       "  <tbody>\n",
       "    <tr>\n",
       "      <th>0</th>\n",
       "      <td>外神田フジハイツ</td>\n",
       "      <td>銀座線/末広町駅</td>\n",
       "      <td>千代田区外神田６</td>\n",
       "      <td>2LDK</td>\n",
       "      <td>17.5</td>\n",
       "      <td>\\r\\n\\t\\t\\t\\t\\t\\t\\t\\t\\t\\t\\t2</td>\n",
       "      <td>歩3分</td>\n",
       "    </tr>\n",
       "    <tr>\n",
       "      <th>1</th>\n",
       "      <td>東京メトロ丸ノ内線 新大塚駅 11階建 築50年</td>\n",
       "      <td>丸ノ内線/新大塚駅</td>\n",
       "      <td>文京区大塚４</td>\n",
       "      <td>2DK</td>\n",
       "      <td>13</td>\n",
       "      <td>\\r\\n\\t\\t\\t\\t\\t\\t\\t\\t\\t\\t\\t6</td>\n",
       "      <td>歩1分</td>\n",
       "    </tr>\n",
       "    <tr>\n",
       "      <th>2</th>\n",
       "      <td>東京メトロ丸ノ内線 淡路町駅 8階建 築20年</td>\n",
       "      <td>丸ノ内線/淡路町駅</td>\n",
       "      <td>千代田区神田須田町１</td>\n",
       "      <td>2DK</td>\n",
       "      <td>14</td>\n",
       "      <td>\\r\\n\\t\\t\\t\\t\\t\\t\\t\\t\\t\\t\\t6</td>\n",
       "      <td>歩2分</td>\n",
       "    </tr>\n",
       "    <tr>\n",
       "      <th>3</th>\n",
       "      <td>東京メトロ銀座線 末広町駅 7階建 築43年</td>\n",
       "      <td>銀座線/末広町駅</td>\n",
       "      <td>千代田区外神田６</td>\n",
       "      <td>2LDK</td>\n",
       "      <td>17.5</td>\n",
       "      <td>\\r\\n\\t\\t\\t\\t\\t\\t\\t\\t\\t\\t\\t2</td>\n",
       "      <td>歩3分</td>\n",
       "    </tr>\n",
       "    <tr>\n",
       "      <th>4</th>\n",
       "      <td>パークウェル御茶ノ水</td>\n",
       "      <td>丸ノ内線/淡路町駅</td>\n",
       "      <td>千代田区神田須田町１</td>\n",
       "      <td>2DK</td>\n",
       "      <td>14</td>\n",
       "      <td>\\r\\n\\t\\t\\t\\t\\t\\t\\t\\t\\t\\t\\t6</td>\n",
       "      <td>歩3分</td>\n",
       "    </tr>\n",
       "  </tbody>\n",
       "</table>\n",
       "</div>"
      ],
      "text/plain": [
       "                        物件名       最寄り駅          住所   間取り    家賃  \\\n",
       "0                  外神田フジハイツ   銀座線/末広町駅    千代田区外神田６  2LDK  17.5   \n",
       "1  東京メトロ丸ノ内線 新大塚駅 11階建 築50年  丸ノ内線/新大塚駅      文京区大塚４   2DK    13   \n",
       "2   東京メトロ丸ノ内線 淡路町駅 8階建 築20年  丸ノ内線/淡路町駅  千代田区神田須田町１   2DK    14   \n",
       "3    東京メトロ銀座線 末広町駅 7階建 築43年   銀座線/末広町駅    千代田区外神田６  2LDK  17.5   \n",
       "4                パークウェル御茶ノ水  丸ノ内線/淡路町駅  千代田区神田須田町１   2DK    14   \n",
       "\n",
       "                             階 駅までの距離  \n",
       "0  \\r\\n\\t\\t\\t\\t\\t\\t\\t\\t\\t\\t\\t2    歩3分  \n",
       "1  \\r\\n\\t\\t\\t\\t\\t\\t\\t\\t\\t\\t\\t6    歩1分  \n",
       "2  \\r\\n\\t\\t\\t\\t\\t\\t\\t\\t\\t\\t\\t6    歩2分  \n",
       "3  \\r\\n\\t\\t\\t\\t\\t\\t\\t\\t\\t\\t\\t2    歩3分  \n",
       "4  \\r\\n\\t\\t\\t\\t\\t\\t\\t\\t\\t\\t\\t6    歩3分  "
      ]
     },
     "execution_count": 51,
     "metadata": {},
     "output_type": "execute_result"
    }
   ],
   "source": [
    "df.head()"
   ]
  },
  {
   "cell_type": "code",
   "execution_count": 52,
   "metadata": {},
   "outputs": [],
   "source": [
    "df = df.rename(columns={'駅までの距離': '駅までの距離（徒歩/分）'})"
   ]
  },
  {
   "cell_type": "code",
   "execution_count": 54,
   "metadata": {},
   "outputs": [
    {
     "data": {
      "text/html": [
       "<div>\n",
       "<style scoped>\n",
       "    .dataframe tbody tr th:only-of-type {\n",
       "        vertical-align: middle;\n",
       "    }\n",
       "\n",
       "    .dataframe tbody tr th {\n",
       "        vertical-align: top;\n",
       "    }\n",
       "\n",
       "    .dataframe thead th {\n",
       "        text-align: right;\n",
       "    }\n",
       "</style>\n",
       "<table border=\"1\" class=\"dataframe\">\n",
       "  <thead>\n",
       "    <tr style=\"text-align: right;\">\n",
       "      <th></th>\n",
       "      <th>物件名</th>\n",
       "      <th>最寄り駅</th>\n",
       "      <th>駅までの距離（徒歩/分）</th>\n",
       "      <th>間取り</th>\n",
       "      <th>階</th>\n",
       "      <th>家賃</th>\n",
       "      <th>住所</th>\n",
       "    </tr>\n",
       "  </thead>\n",
       "  <tbody>\n",
       "    <tr>\n",
       "      <th>0</th>\n",
       "      <td>外神田フジハイツ</td>\n",
       "      <td>銀座線/末広町駅</td>\n",
       "      <td>歩3分</td>\n",
       "      <td>2LDK</td>\n",
       "      <td>\\r\\n\\t\\t\\t\\t\\t\\t\\t\\t\\t\\t\\t2</td>\n",
       "      <td>17.5</td>\n",
       "      <td>千代田区外神田６</td>\n",
       "    </tr>\n",
       "    <tr>\n",
       "      <th>1</th>\n",
       "      <td>東京メトロ丸ノ内線 新大塚駅 11階建 築50年</td>\n",
       "      <td>丸ノ内線/新大塚駅</td>\n",
       "      <td>歩1分</td>\n",
       "      <td>2DK</td>\n",
       "      <td>\\r\\n\\t\\t\\t\\t\\t\\t\\t\\t\\t\\t\\t6</td>\n",
       "      <td>13</td>\n",
       "      <td>文京区大塚４</td>\n",
       "    </tr>\n",
       "    <tr>\n",
       "      <th>2</th>\n",
       "      <td>東京メトロ丸ノ内線 淡路町駅 8階建 築20年</td>\n",
       "      <td>丸ノ内線/淡路町駅</td>\n",
       "      <td>歩2分</td>\n",
       "      <td>2DK</td>\n",
       "      <td>\\r\\n\\t\\t\\t\\t\\t\\t\\t\\t\\t\\t\\t6</td>\n",
       "      <td>14</td>\n",
       "      <td>千代田区神田須田町１</td>\n",
       "    </tr>\n",
       "    <tr>\n",
       "      <th>3</th>\n",
       "      <td>東京メトロ銀座線 末広町駅 7階建 築43年</td>\n",
       "      <td>銀座線/末広町駅</td>\n",
       "      <td>歩3分</td>\n",
       "      <td>2LDK</td>\n",
       "      <td>\\r\\n\\t\\t\\t\\t\\t\\t\\t\\t\\t\\t\\t2</td>\n",
       "      <td>17.5</td>\n",
       "      <td>千代田区外神田６</td>\n",
       "    </tr>\n",
       "    <tr>\n",
       "      <th>4</th>\n",
       "      <td>パークウェル御茶ノ水</td>\n",
       "      <td>丸ノ内線/淡路町駅</td>\n",
       "      <td>歩3分</td>\n",
       "      <td>2DK</td>\n",
       "      <td>\\r\\n\\t\\t\\t\\t\\t\\t\\t\\t\\t\\t\\t6</td>\n",
       "      <td>14</td>\n",
       "      <td>千代田区神田須田町１</td>\n",
       "    </tr>\n",
       "  </tbody>\n",
       "</table>\n",
       "</div>"
      ],
      "text/plain": [
       "                        物件名       最寄り駅 駅までの距離（徒歩/分）   間取り  \\\n",
       "0                  外神田フジハイツ   銀座線/末広町駅          歩3分  2LDK   \n",
       "1  東京メトロ丸ノ内線 新大塚駅 11階建 築50年  丸ノ内線/新大塚駅          歩1分   2DK   \n",
       "2   東京メトロ丸ノ内線 淡路町駅 8階建 築20年  丸ノ内線/淡路町駅          歩2分   2DK   \n",
       "3    東京メトロ銀座線 末広町駅 7階建 築43年   銀座線/末広町駅          歩3分  2LDK   \n",
       "4                パークウェル御茶ノ水  丸ノ内線/淡路町駅          歩3分   2DK   \n",
       "\n",
       "                             階    家賃          住所  \n",
       "0  \\r\\n\\t\\t\\t\\t\\t\\t\\t\\t\\t\\t\\t2  17.5    千代田区外神田６  \n",
       "1  \\r\\n\\t\\t\\t\\t\\t\\t\\t\\t\\t\\t\\t6    13      文京区大塚４  \n",
       "2  \\r\\n\\t\\t\\t\\t\\t\\t\\t\\t\\t\\t\\t6    14  千代田区神田須田町１  \n",
       "3  \\r\\n\\t\\t\\t\\t\\t\\t\\t\\t\\t\\t\\t2  17.5    千代田区外神田６  \n",
       "4  \\r\\n\\t\\t\\t\\t\\t\\t\\t\\t\\t\\t\\t6    14  千代田区神田須田町１  "
      ]
     },
     "execution_count": 54,
     "metadata": {},
     "output_type": "execute_result"
    }
   ],
   "source": [
    "#順番を変更\n",
    "new_column_order = ['物件名', '最寄り駅', '駅までの距離（徒歩/分）', '間取り','階','家賃', '住所']\n",
    "\n",
    "#新しいdfを作成\n",
    "df = df[new_column_order]\n",
    "df.head()"
   ]
  },
  {
   "cell_type": "code",
   "execution_count": 55,
   "metadata": {},
   "outputs": [],
   "source": [
    "#駅までの距離から、歩と分を消す\n",
    "df['駅までの距離（徒歩/分）'] = df['駅までの距離（徒歩/分）'].apply(lambda x: x.replace('歩', ''))\n",
    "df['駅までの距離（徒歩/分）'] = df['駅までの距離（徒歩/分）'].apply(lambda x: x.replace('分', ''))"
   ]
  },
  {
   "cell_type": "code",
   "execution_count": 56,
   "metadata": {},
   "outputs": [],
   "source": [
    "df['物件名'] = df['物件名'].apply(lambda x: x.replace('東京メトロ','').replace('JR', '').replace('駅', ''))"
   ]
  },
  {
   "cell_type": "code",
   "execution_count": 57,
   "metadata": {},
   "outputs": [
    {
     "data": {
      "text/html": [
       "<div>\n",
       "<style scoped>\n",
       "    .dataframe tbody tr th:only-of-type {\n",
       "        vertical-align: middle;\n",
       "    }\n",
       "\n",
       "    .dataframe tbody tr th {\n",
       "        vertical-align: top;\n",
       "    }\n",
       "\n",
       "    .dataframe thead th {\n",
       "        text-align: right;\n",
       "    }\n",
       "</style>\n",
       "<table border=\"1\" class=\"dataframe\">\n",
       "  <thead>\n",
       "    <tr style=\"text-align: right;\">\n",
       "      <th></th>\n",
       "      <th>物件名</th>\n",
       "      <th>最寄り駅</th>\n",
       "      <th>駅までの距離（徒歩/分）</th>\n",
       "      <th>間取り</th>\n",
       "      <th>階</th>\n",
       "      <th>家賃</th>\n",
       "      <th>住所</th>\n",
       "    </tr>\n",
       "  </thead>\n",
       "  <tbody>\n",
       "    <tr>\n",
       "      <th>0</th>\n",
       "      <td>外神田フジハイツ</td>\n",
       "      <td>銀座線/末広町駅</td>\n",
       "      <td>3</td>\n",
       "      <td>2LDK</td>\n",
       "      <td>\\r\\n\\t\\t\\t\\t\\t\\t\\t\\t\\t\\t\\t2</td>\n",
       "      <td>17.5</td>\n",
       "      <td>千代田区外神田６</td>\n",
       "    </tr>\n",
       "    <tr>\n",
       "      <th>1</th>\n",
       "      <td>丸ノ内線 新大塚 11階建 築50年</td>\n",
       "      <td>丸ノ内線/新大塚駅</td>\n",
       "      <td>1</td>\n",
       "      <td>2DK</td>\n",
       "      <td>\\r\\n\\t\\t\\t\\t\\t\\t\\t\\t\\t\\t\\t6</td>\n",
       "      <td>13</td>\n",
       "      <td>文京区大塚４</td>\n",
       "    </tr>\n",
       "    <tr>\n",
       "      <th>2</th>\n",
       "      <td>丸ノ内線 淡路町 8階建 築20年</td>\n",
       "      <td>丸ノ内線/淡路町駅</td>\n",
       "      <td>2</td>\n",
       "      <td>2DK</td>\n",
       "      <td>\\r\\n\\t\\t\\t\\t\\t\\t\\t\\t\\t\\t\\t6</td>\n",
       "      <td>14</td>\n",
       "      <td>千代田区神田須田町１</td>\n",
       "    </tr>\n",
       "    <tr>\n",
       "      <th>3</th>\n",
       "      <td>銀座線 末広町 7階建 築43年</td>\n",
       "      <td>銀座線/末広町駅</td>\n",
       "      <td>3</td>\n",
       "      <td>2LDK</td>\n",
       "      <td>\\r\\n\\t\\t\\t\\t\\t\\t\\t\\t\\t\\t\\t2</td>\n",
       "      <td>17.5</td>\n",
       "      <td>千代田区外神田６</td>\n",
       "    </tr>\n",
       "    <tr>\n",
       "      <th>4</th>\n",
       "      <td>パークウェル御茶ノ水</td>\n",
       "      <td>丸ノ内線/淡路町駅</td>\n",
       "      <td>3</td>\n",
       "      <td>2DK</td>\n",
       "      <td>\\r\\n\\t\\t\\t\\t\\t\\t\\t\\t\\t\\t\\t6</td>\n",
       "      <td>14</td>\n",
       "      <td>千代田区神田須田町１</td>\n",
       "    </tr>\n",
       "  </tbody>\n",
       "</table>\n",
       "</div>"
      ],
      "text/plain": [
       "                  物件名       最寄り駅 駅までの距離（徒歩/分）   間取り  \\\n",
       "0            外神田フジハイツ   銀座線/末広町駅            3  2LDK   \n",
       "1  丸ノ内線 新大塚 11階建 築50年  丸ノ内線/新大塚駅            1   2DK   \n",
       "2   丸ノ内線 淡路町 8階建 築20年  丸ノ内線/淡路町駅            2   2DK   \n",
       "3    銀座線 末広町 7階建 築43年   銀座線/末広町駅            3  2LDK   \n",
       "4          パークウェル御茶ノ水  丸ノ内線/淡路町駅            3   2DK   \n",
       "\n",
       "                             階    家賃          住所  \n",
       "0  \\r\\n\\t\\t\\t\\t\\t\\t\\t\\t\\t\\t\\t2  17.5    千代田区外神田６  \n",
       "1  \\r\\n\\t\\t\\t\\t\\t\\t\\t\\t\\t\\t\\t6    13      文京区大塚４  \n",
       "2  \\r\\n\\t\\t\\t\\t\\t\\t\\t\\t\\t\\t\\t6    14  千代田区神田須田町１  \n",
       "3  \\r\\n\\t\\t\\t\\t\\t\\t\\t\\t\\t\\t\\t2  17.5    千代田区外神田６  \n",
       "4  \\r\\n\\t\\t\\t\\t\\t\\t\\t\\t\\t\\t\\t6    14  千代田区神田須田町１  "
      ]
     },
     "execution_count": 57,
     "metadata": {},
     "output_type": "execute_result"
    }
   ],
   "source": [
    "df.head()"
   ]
  },
  {
   "cell_type": "code",
   "execution_count": 58,
   "metadata": {},
   "outputs": [
    {
     "name": "stdout",
     "output_type": "stream",
     "text": [
      "                     物件名        最寄り駅 駅までの距離（徒歩/分）   間取り  \\\n",
      "0               外神田フジハイツ    銀座線/末広町駅            3  2LDK   \n",
      "2      丸ノ内線 淡路町 8階建 築20年   丸ノ内線/淡路町駅            2   2DK   \n",
      "3       銀座線 末広町 7階建 築43年    銀座線/末広町駅            3  2LDK   \n",
      "4             パークウェル御茶ノ水   丸ノ内線/淡路町駅            3   2DK   \n",
      "6    都営浅草線 東銀座 12階建 築19年  都営浅草線/東銀座駅            3   2DK   \n",
      "..                   ...         ...          ...   ...   \n",
      "554     千代田線 綾瀬 9階建 築22年    千代田線/綾瀬駅            5   2DK   \n",
      "555                エムロード    千代田線/綾瀬駅            4   2DK   \n",
      "559    丸ノ内線 方南町 6階建 築36年   丸ノ内線/方南町駅            2    2K   \n",
      "560              サンモール鈴木   丸ノ内線/方南町駅            2    2K   \n",
      "562    東西線 西葛西 13階建 築38年    東西線/西葛西駅            2  4LDK   \n",
      "\n",
      "                                階    家賃          住所  \n",
      "0     \\r\\n\\t\\t\\t\\t\\t\\t\\t\\t\\t\\t\\t2  17.5    千代田区外神田６  \n",
      "2     \\r\\n\\t\\t\\t\\t\\t\\t\\t\\t\\t\\t\\t6    14  千代田区神田須田町１  \n",
      "3     \\r\\n\\t\\t\\t\\t\\t\\t\\t\\t\\t\\t\\t2  17.5    千代田区外神田６  \n",
      "4     \\r\\n\\t\\t\\t\\t\\t\\t\\t\\t\\t\\t\\t6    14  千代田区神田須田町１  \n",
      "6     \\r\\n\\t\\t\\t\\t\\t\\t\\t\\t\\t\\t\\t9    20      中央区銀座２  \n",
      "..                            ...   ...         ...  \n",
      "554   \\r\\n\\t\\t\\t\\t\\t\\t\\t\\t\\t\\t\\t7  11.9      足立区綾瀬２  \n",
      "555   \\r\\n\\t\\t\\t\\t\\t\\t\\t\\t\\t\\t\\t3    10      足立区綾瀬３  \n",
      "559   \\r\\n\\t\\t\\t\\t\\t\\t\\t\\t\\t\\t\\t5   9.9      杉並区和泉４  \n",
      "560   \\r\\n\\t\\t\\t\\t\\t\\t\\t\\t\\t\\t\\t5   9.9      杉並区和泉４  \n",
      "562  \\r\\n\\t\\t\\t\\t\\t\\t\\t\\t\\t\\t\\t13  19.5    江戸川区西葛西６  \n",
      "\n",
      "[219 rows x 7 columns]\n"
     ]
    }
   ],
   "source": [
    "# 重複した行を特定する条件を指定\n",
    "duplicate_condition = df.duplicated(subset=['住所', '家賃', '階'], keep=False)\n",
    "\n",
    "# 重複した行を抽出\n",
    "duplicates = df[duplicate_condition]\n",
    "\n",
    "# 重複した行を表示\n",
    "print(duplicates)"
   ]
  },
  {
   "cell_type": "code",
   "execution_count": 59,
   "metadata": {},
   "outputs": [],
   "source": [
    "# 重複した行を削除\n",
    "df = df.drop_duplicates(subset=['住所', '家賃', '階'], keep='first')"
   ]
  },
  {
   "cell_type": "code",
   "execution_count": 60,
   "metadata": {},
   "outputs": [],
   "source": [
    "# dfをcsvに出力\n",
    "df.to_csv('properties.csv', index=None, encoding='utf-8-sig')"
   ]
  },
  {
   "cell_type": "markdown",
   "metadata": {},
   "source": [
    "ここからスプレッドシートに出力"
   ]
  },
  {
   "cell_type": "code",
   "execution_count": 2,
   "metadata": {},
   "outputs": [
    {
     "name": "stdout",
     "output_type": "stream",
     "text": [
      "Collecting gspread\n",
      "  Obtaining dependency information for gspread from https://files.pythonhosted.org/packages/4f/72/d2b95e1ce9f501fe86bef15060d8c37b947946784ab1615ef5a1954c596d/gspread-5.12.2-py3-none-any.whl.metadata\n",
      "  Downloading gspread-5.12.2-py3-none-any.whl.metadata (8.8 kB)\n",
      "Collecting google-auth>=1.12.0 (from gspread)\n",
      "  Obtaining dependency information for google-auth>=1.12.0 from https://files.pythonhosted.org/packages/f4/d2/9f6f3b9c0fd486617816cff42e856afea079d0bad99f0e60dc186c76b881/google_auth-2.25.2-py2.py3-none-any.whl.metadata\n",
      "  Downloading google_auth-2.25.2-py2.py3-none-any.whl.metadata (4.7 kB)\n",
      "Collecting google-auth-oauthlib>=0.4.1 (from gspread)\n",
      "  Obtaining dependency information for google-auth-oauthlib>=0.4.1 from https://files.pythonhosted.org/packages/ce/33/a907b4b67245647746dde8d61e1643ef5d210c88e090d491efd89eff9f95/google_auth_oauthlib-1.1.0-py2.py3-none-any.whl.metadata\n",
      "  Downloading google_auth_oauthlib-1.1.0-py2.py3-none-any.whl.metadata (2.7 kB)\n",
      "Collecting cachetools<6.0,>=2.0.0 (from google-auth>=1.12.0->gspread)\n",
      "  Obtaining dependency information for cachetools<6.0,>=2.0.0 from https://files.pythonhosted.org/packages/a2/91/2d843adb9fbd911e0da45fbf6f18ca89d07a087c3daa23e955584f90ebf4/cachetools-5.3.2-py3-none-any.whl.metadata\n",
      "  Downloading cachetools-5.3.2-py3-none-any.whl.metadata (5.2 kB)\n",
      "Requirement already satisfied: pyasn1-modules>=0.2.1 in c:\\users\\yo_kishimoto\\appdata\\local\\anaconda4\\lib\\site-packages (from google-auth>=1.12.0->gspread) (0.2.8)\n",
      "Collecting rsa<5,>=3.1.4 (from google-auth>=1.12.0->gspread)\n",
      "  Using cached rsa-4.9-py3-none-any.whl (34 kB)\n",
      "Collecting requests-oauthlib>=0.7.0 (from google-auth-oauthlib>=0.4.1->gspread)\n",
      "  Using cached requests_oauthlib-1.3.1-py2.py3-none-any.whl (23 kB)\n",
      "Requirement already satisfied: pyasn1<0.5.0,>=0.4.6 in c:\\users\\yo_kishimoto\\appdata\\local\\anaconda4\\lib\\site-packages (from pyasn1-modules>=0.2.1->google-auth>=1.12.0->gspread) (0.4.8)\n",
      "Collecting oauthlib>=3.0.0 (from requests-oauthlib>=0.7.0->google-auth-oauthlib>=0.4.1->gspread)\n",
      "  Using cached oauthlib-3.2.2-py3-none-any.whl (151 kB)\n",
      "Requirement already satisfied: requests>=2.0.0 in c:\\users\\yo_kishimoto\\appdata\\local\\anaconda4\\lib\\site-packages (from requests-oauthlib>=0.7.0->google-auth-oauthlib>=0.4.1->gspread) (2.31.0)\n",
      "Requirement already satisfied: charset-normalizer<4,>=2 in c:\\users\\yo_kishimoto\\appdata\\local\\anaconda4\\lib\\site-packages (from requests>=2.0.0->requests-oauthlib>=0.7.0->google-auth-oauthlib>=0.4.1->gspread) (2.0.4)\n",
      "Requirement already satisfied: idna<4,>=2.5 in c:\\users\\yo_kishimoto\\appdata\\local\\anaconda4\\lib\\site-packages (from requests>=2.0.0->requests-oauthlib>=0.7.0->google-auth-oauthlib>=0.4.1->gspread) (3.4)\n",
      "Requirement already satisfied: urllib3<3,>=1.21.1 in c:\\users\\yo_kishimoto\\appdata\\local\\anaconda4\\lib\\site-packages (from requests>=2.0.0->requests-oauthlib>=0.7.0->google-auth-oauthlib>=0.4.1->gspread) (1.26.16)\n",
      "Requirement already satisfied: certifi>=2017.4.17 in c:\\users\\yo_kishimoto\\appdata\\local\\anaconda4\\lib\\site-packages (from requests>=2.0.0->requests-oauthlib>=0.7.0->google-auth-oauthlib>=0.4.1->gspread) (2023.7.22)\n",
      "Downloading gspread-5.12.2-py3-none-any.whl (49 kB)\n",
      "   ---------------------------------------- 0.0/49.5 kB ? eta -:--:--\n",
      "   ---------------------------------------- 49.5/49.5 kB 1.3 MB/s eta 0:00:00\n",
      "Downloading google_auth-2.25.2-py2.py3-none-any.whl (184 kB)\n",
      "   ---------------------------------------- 0.0/184.2 kB ? eta -:--:--\n",
      "   ---------------------------------------- 184.2/184.2 kB 5.6 MB/s eta 0:00:00\n",
      "Downloading google_auth_oauthlib-1.1.0-py2.py3-none-any.whl (19 kB)\n",
      "Downloading cachetools-5.3.2-py3-none-any.whl (9.3 kB)\n",
      "Installing collected packages: rsa, oauthlib, cachetools, requests-oauthlib, google-auth, google-auth-oauthlib, gspread\n",
      "Successfully installed cachetools-5.3.2 google-auth-2.25.2 google-auth-oauthlib-1.1.0 gspread-5.12.2 oauthlib-3.2.2 requests-oauthlib-1.3.1 rsa-4.9\n",
      "Note: you may need to restart the kernel to use updated packages.\n"
     ]
    }
   ],
   "source": [
    "pip install gspread"
   ]
  },
  {
   "cell_type": "code",
   "execution_count": 4,
   "metadata": {},
   "outputs": [
    {
     "name": "stdout",
     "output_type": "stream",
     "text": [
      "Collecting oauth2client\n",
      "  Using cached oauth2client-4.1.3-py2.py3-none-any.whl (98 kB)\n",
      "Collecting httplib2>=0.9.1 (from oauth2client)\n",
      "  Using cached httplib2-0.22.0-py3-none-any.whl (96 kB)\n",
      "Requirement already satisfied: pyasn1>=0.1.7 in c:\\users\\yo_kishimoto\\appdata\\local\\anaconda4\\lib\\site-packages (from oauth2client) (0.4.8)\n",
      "Requirement already satisfied: pyasn1-modules>=0.0.5 in c:\\users\\yo_kishimoto\\appdata\\local\\anaconda4\\lib\\site-packages (from oauth2client) (0.2.8)\n",
      "Requirement already satisfied: rsa>=3.1.4 in c:\\users\\yo_kishimoto\\appdata\\local\\anaconda4\\lib\\site-packages (from oauth2client) (4.9)\n",
      "Requirement already satisfied: six>=1.6.1 in c:\\users\\yo_kishimoto\\appdata\\local\\anaconda4\\lib\\site-packages (from oauth2client) (1.16.0)\n",
      "Requirement already satisfied: pyparsing!=3.0.0,!=3.0.1,!=3.0.2,!=3.0.3,<4,>=2.4.2 in c:\\users\\yo_kishimoto\\appdata\\local\\anaconda4\\lib\\site-packages (from httplib2>=0.9.1->oauth2client) (3.0.9)\n",
      "Installing collected packages: httplib2, oauth2client\n",
      "Successfully installed httplib2-0.22.0 oauth2client-4.1.3\n",
      "Note: you may need to restart the kernel to use updated packages.\n"
     ]
    }
   ],
   "source": [
    "pip install oauth2client"
   ]
  },
  {
   "cell_type": "code",
   "execution_count": 5,
   "metadata": {},
   "outputs": [],
   "source": [
    "#ライブラリをインポート\n",
    "import gspread\n",
    "from oauth2client.service_account import ServiceAccountCredentials"
   ]
  },
  {
   "cell_type": "code",
   "execution_count": 83,
   "metadata": {},
   "outputs": [],
   "source": [
    "scope = ['https://www.googleapis.com/auth/spreadsheets', 'https://www.googleapis.com/auth/drive']\n",
    "credentials = ServiceAccountCredentials.from_json_keyfile_name('tech0scraping-075b6d093eb0.json', scope)\n",
    "gc = gspread.authorize(credentials)"
   ]
  },
  {
   "cell_type": "code",
   "execution_count": 84,
   "metadata": {},
   "outputs": [],
   "source": [
    "spreadsheet = gc.open('properties')"
   ]
  },
  {
   "cell_type": "code",
   "execution_count": 85,
   "metadata": {},
   "outputs": [
    {
     "data": {
      "text/plain": [
       "{'spreadsheetId': '1uM1hT6R1tYX9UbNkZVUjpDAUMUE-13ntvi-dcotS_4Q',\n",
       " 'updates': {'spreadsheetId': '1uM1hT6R1tYX9UbNkZVUjpDAUMUE-13ntvi-dcotS_4Q',\n",
       "  'updatedRange': 'Sheet1!A2:G458',\n",
       "  'updatedRows': 457,\n",
       "  'updatedColumns': 7,\n",
       "  'updatedCells': 3199}}"
      ]
     },
     "execution_count": 85,
     "metadata": {},
     "output_type": "execute_result"
    }
   ],
   "source": [
    "# DataFrameのデータをリストに変換\n",
    "df_values = df.values.tolist()\n",
    "\n",
    "# データをスプレッドシートに挿入\n",
    "spreadsheet.get_worksheet(0).insert_rows(df_values, 2)  # ワークシートのインデックスを指定"
   ]
  },
  {
   "cell_type": "code",
   "execution_count": 86,
   "metadata": {},
   "outputs": [
    {
     "name": "stdout",
     "output_type": "stream",
     "text": [
      "Collecting gspread_dataframeNote: you may need to restart the kernel to use updated packages.\n",
      "\n",
      "  Obtaining dependency information for gspread_dataframe from https://files.pythonhosted.org/packages/4f/cd/b5ad4a14a6be7a188197cf103e6f3282c437b1978b55a9e7de041ea2d125/gspread_dataframe-3.3.1-py2.py3-none-any.whl.metadata\n",
      "  Downloading gspread_dataframe-3.3.1-py2.py3-none-any.whl.metadata (4.1 kB)\n",
      "Requirement already satisfied: gspread>=3.0.0 in c:\\users\\yo_kishimoto\\appdata\\local\\anaconda4\\lib\\site-packages (from gspread_dataframe) (5.12.2)\n",
      "Requirement already satisfied: pandas>=0.24.0 in c:\\users\\yo_kishimoto\\appdata\\local\\anaconda4\\lib\\site-packages (from gspread_dataframe) (1.5.3)\n",
      "Requirement already satisfied: six>=1.12.0 in c:\\users\\yo_kishimoto\\appdata\\local\\anaconda4\\lib\\site-packages (from gspread_dataframe) (1.16.0)\n",
      "Requirement already satisfied: google-auth>=1.12.0 in c:\\users\\yo_kishimoto\\appdata\\local\\anaconda4\\lib\\site-packages (from gspread>=3.0.0->gspread_dataframe) (2.25.2)\n",
      "Requirement already satisfied: google-auth-oauthlib>=0.4.1 in c:\\users\\yo_kishimoto\\appdata\\local\\anaconda4\\lib\\site-packages (from gspread>=3.0.0->gspread_dataframe) (1.1.0)\n",
      "Requirement already satisfied: python-dateutil>=2.8.1 in c:\\users\\yo_kishimoto\\appdata\\local\\anaconda4\\lib\\site-packages (from pandas>=0.24.0->gspread_dataframe) (2.8.2)\n",
      "Requirement already satisfied: pytz>=2020.1 in c:\\users\\yo_kishimoto\\appdata\\local\\anaconda4\\lib\\site-packages (from pandas>=0.24.0->gspread_dataframe) (2022.7)\n",
      "Requirement already satisfied: numpy>=1.21.0 in c:\\users\\yo_kishimoto\\appdata\\local\\anaconda4\\lib\\site-packages (from pandas>=0.24.0->gspread_dataframe) (1.24.3)\n",
      "Requirement already satisfied: cachetools<6.0,>=2.0.0 in c:\\users\\yo_kishimoto\\appdata\\local\\anaconda4\\lib\\site-packages (from google-auth>=1.12.0->gspread>=3.0.0->gspread_dataframe) (5.3.2)\n",
      "Requirement already satisfied: pyasn1-modules>=0.2.1 in c:\\users\\yo_kishimoto\\appdata\\local\\anaconda4\\lib\\site-packages (from google-auth>=1.12.0->gspread>=3.0.0->gspread_dataframe) (0.2.8)\n",
      "Requirement already satisfied: rsa<5,>=3.1.4 in c:\\users\\yo_kishimoto\\appdata\\local\\anaconda4\\lib\\site-packages (from google-auth>=1.12.0->gspread>=3.0.0->gspread_dataframe) (4.9)\n",
      "Requirement already satisfied: requests-oauthlib>=0.7.0 in c:\\users\\yo_kishimoto\\appdata\\local\\anaconda4\\lib\\site-packages (from google-auth-oauthlib>=0.4.1->gspread>=3.0.0->gspread_dataframe) (1.3.1)\n",
      "Requirement already satisfied: pyasn1<0.5.0,>=0.4.6 in c:\\users\\yo_kishimoto\\appdata\\local\\anaconda4\\lib\\site-packages (from pyasn1-modules>=0.2.1->google-auth>=1.12.0->gspread>=3.0.0->gspread_dataframe) (0.4.8)\n",
      "Requirement already satisfied: oauthlib>=3.0.0 in c:\\users\\yo_kishimoto\\appdata\\local\\anaconda4\\lib\\site-packages (from requests-oauthlib>=0.7.0->google-auth-oauthlib>=0.4.1->gspread>=3.0.0->gspread_dataframe) (3.2.2)\n",
      "Requirement already satisfied: requests>=2.0.0 in c:\\users\\yo_kishimoto\\appdata\\local\\anaconda4\\lib\\site-packages (from requests-oauthlib>=0.7.0->google-auth-oauthlib>=0.4.1->gspread>=3.0.0->gspread_dataframe) (2.31.0)\n",
      "Requirement already satisfied: charset-normalizer<4,>=2 in c:\\users\\yo_kishimoto\\appdata\\local\\anaconda4\\lib\\site-packages (from requests>=2.0.0->requests-oauthlib>=0.7.0->google-auth-oauthlib>=0.4.1->gspread>=3.0.0->gspread_dataframe) (2.0.4)\n",
      "Requirement already satisfied: idna<4,>=2.5 in c:\\users\\yo_kishimoto\\appdata\\local\\anaconda4\\lib\\site-packages (from requests>=2.0.0->requests-oauthlib>=0.7.0->google-auth-oauthlib>=0.4.1->gspread>=3.0.0->gspread_dataframe) (3.4)\n",
      "Requirement already satisfied: urllib3<3,>=1.21.1 in c:\\users\\yo_kishimoto\\appdata\\local\\anaconda4\\lib\\site-packages (from requests>=2.0.0->requests-oauthlib>=0.7.0->google-auth-oauthlib>=0.4.1->gspread>=3.0.0->gspread_dataframe) (1.26.16)\n",
      "Requirement already satisfied: certifi>=2017.4.17 in c:\\users\\yo_kishimoto\\appdata\\local\\anaconda4\\lib\\site-packages (from requests>=2.0.0->requests-oauthlib>=0.7.0->google-auth-oauthlib>=0.4.1->gspread>=3.0.0->gspread_dataframe) (2023.7.22)\n",
      "Downloading gspread_dataframe-3.3.1-py2.py3-none-any.whl (8.0 kB)\n",
      "Installing collected packages: gspread_dataframe\n",
      "Successfully installed gspread_dataframe-3.3.1\n"
     ]
    }
   ],
   "source": [
    "pip install gspread_dataframe"
   ]
  },
  {
   "cell_type": "code",
   "execution_count": 87,
   "metadata": {},
   "outputs": [],
   "source": [
    "from gspread_dataframe import set_with_dataframe"
   ]
  },
  {
   "cell_type": "code",
   "execution_count": 89,
   "metadata": {},
   "outputs": [
    {
     "data": {
      "text/plain": [
       "<Worksheet 'property_list' id:752719627>"
      ]
     },
     "execution_count": 89,
     "metadata": {},
     "output_type": "execute_result"
    }
   ],
   "source": [
    "spreadsheet.add_worksheet(title=\"property_list\", rows=50, cols=10)"
   ]
  },
  {
   "cell_type": "code",
   "execution_count": 91,
   "metadata": {},
   "outputs": [],
   "source": [
    "set_with_dataframe(spreadsheet.worksheet(\"property_list\"), df, include_index=True)"
   ]
  }
 ],
 "metadata": {
  "kernelspec": {
   "display_name": "base",
   "language": "python",
   "name": "python3"
  },
  "language_info": {
   "codemirror_mode": {
    "name": "ipython",
    "version": 3
   },
   "file_extension": ".py",
   "mimetype": "text/x-python",
   "name": "python",
   "nbconvert_exporter": "python",
   "pygments_lexer": "ipython3",
   "version": "3.11.4"
  }
 },
 "nbformat": 4,
 "nbformat_minor": 2
}
